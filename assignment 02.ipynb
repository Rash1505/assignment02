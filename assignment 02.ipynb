{
 "cells": [
  {
   "cell_type": "code",
   "execution_count": null,
   "id": "8465398a-bbaa-42a8-9129-092395777017",
   "metadata": {},
   "outputs": [],
   "source": [
    "Q1"
   ]
  },
  {
   "cell_type": "code",
   "execution_count": null,
   "id": "bb2517cc-1201-44a4-b87e-913375ed6559",
   "metadata": {},
   "outputs": [],
   "source": [
    "marks = int(input('enter your percentage'))\n",
    "if marks >90 :\n",
    "    print('you got grade A')\n",
    "elif marks >80 and marks <= 90 :\n",
    "    print('you got grade B')\n",
    "elif marks >= 60 and marks <= 80 :\n",
    "    print('you got grade C')\n",
    "else :\n",
    "    print('you got grade D')"
   ]
  },
  {
   "cell_type": "code",
   "execution_count": null,
   "id": "e893638f-df9e-495c-b946-45deff4479a7",
   "metadata": {},
   "outputs": [],
   "source": [
    "Q2"
   ]
  },
  {
   "cell_type": "code",
   "execution_count": null,
   "id": "26e87fe0-287c-476d-a3f1-d313d4a9f1bd",
   "metadata": {},
   "outputs": [],
   "source": [
    "price = int(input('enter the price'))\n",
    "if price >100000 :\n",
    "    print('you have to pay 15% tax')\n",
    "elif price > 50000 and price <= 100000 :\n",
    "    print('you have to pay 10% tax')\n",
    "else :\n",
    "    print('you have to pay 5% tax')"
   ]
  },
  {
   "cell_type": "code",
   "execution_count": null,
   "id": "ebd151fd-ec77-4bbf-a51b-b151922a179a",
   "metadata": {},
   "outputs": [],
   "source": [
    "Q3"
   ]
  },
  {
   "cell_type": "code",
   "execution_count": null,
   "id": "c6b087ed-7d36-4546-bbc9-3723f9babf19",
   "metadata": {},
   "outputs": [],
   "source": [
    "city = input('city')\n",
    "if city == 'Delhi' :\n",
    "    print('Red Fort')\n",
    "elif city == 'Agra' :\n",
    "    print('Taj Mahal')\n",
    "elif city == 'Jaipur' :\n",
    "    print('Jal Mahal')"
   ]
  },
  {
   "cell_type": "code",
   "execution_count": null,
   "id": "c55d33c4-3b57-43af-848a-26cca51ebd1f",
   "metadata": {},
   "outputs": [],
   "source": [
    "Q4"
   ]
  },
  {
   "cell_type": "code",
   "execution_count": null,
   "id": "88b353bc-eb07-476e-8861-dbf9ad06b537",
   "metadata": {},
   "outputs": [],
   "source": [
    "num = int(input('enter number'))\n",
    "count = 0\n",
    "while num > 10 :\n",
    "    num = num / 3\n",
    "    count = count + 1\n",
    "print(count)"
   ]
  },
  {
   "cell_type": "code",
   "execution_count": null,
   "id": "01f38398-7e14-4e31-b66e-76870d5e8545",
   "metadata": {},
   "outputs": [],
   "source": [
    "Q5"
   ]
  },
  {
   "cell_type": "code",
   "execution_count": null,
   "id": "9869d2b7-434d-4297-b2aa-c9878db02bfa",
   "metadata": {},
   "outputs": [],
   "source": [
    "A while loop allows a part of the code to be executed repeatedly as long as a given condition is true. \n",
    "It is used wheb the number of iterations is not known."
   ]
  },
  {
   "cell_type": "code",
   "execution_count": null,
   "id": "174582fa-4a2b-4f2a-97a5-b3136efbf567",
   "metadata": {},
   "outputs": [],
   "source": [
    "Q6"
   ]
  },
  {
   "cell_type": "code",
   "execution_count": null,
   "id": "27dc7283-cac4-4282-a6c6-a3811cf94563",
   "metadata": {},
   "outputs": [],
   "source": [
    "#1\n",
    "\n",
    "i = 1\n",
    "while i <= 5 :\n",
    "    j = 1\n",
    "    while j <= i :\n",
    "        print('*', end = '')\n",
    "        j = j + 1\n",
    "    print()\n",
    "    i = i + 1"
   ]
  },
  {
   "cell_type": "code",
   "execution_count": null,
   "id": "243b87b0-91be-4143-97ef-9b6f0b217189",
   "metadata": {},
   "outputs": [],
   "source": [
    "#2\n",
    "\n",
    "*\n",
    "**\n",
    "***\n",
    "****\n",
    "*****\n"
   ]
  },
  {
   "cell_type": "code",
   "execution_count": null,
   "id": "7603d9ec-8403-4067-b6b3-4438a1b7fedb",
   "metadata": {},
   "outputs": [],
   "source": [
    "#3\n",
    "\n",
    "i = 1 \n",
    "while i <= 5 :\n",
    "    j = 1\n",
    "    while j <= 5 - i :\n",
    "        print('', end='')\n",
    "        j = j + 1\n",
    "    k = 1\n",
    "    while k <= i :\n",
    "        print('*', end='')\n",
    "        k = k + 1\n",
    "        print()\n",
    "        i = i + 1 "
   ]
  },
  {
   "cell_type": "code",
   "execution_count": null,
   "id": "0b6b7361-c7d4-448f-9c8a-61eee0e1bdac",
   "metadata": {},
   "outputs": [],
   "source": [
    "Q7"
   ]
  },
  {
   "cell_type": "code",
   "execution_count": null,
   "id": "cab19844-aec3-447c-87d0-d22af7f724e2",
   "metadata": {},
   "outputs": [],
   "source": [
    "i = 10\n",
    "while i>=1 :\n",
    "    print(i)\n",
    "    i = i -1"
   ]
  }
 ],
 "metadata": {
  "kernelspec": {
   "display_name": "Python 3 (ipykernel)",
   "language": "python",
   "name": "python3"
  },
  "language_info": {
   "codemirror_mode": {
    "name": "ipython",
    "version": 3
   },
   "file_extension": ".py",
   "mimetype": "text/x-python",
   "name": "python",
   "nbconvert_exporter": "python",
   "pygments_lexer": "ipython3",
   "version": "3.10.8"
  }
 },
 "nbformat": 4,
 "nbformat_minor": 5
}
